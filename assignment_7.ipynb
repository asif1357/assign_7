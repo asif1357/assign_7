{
 "cells": [
  {
   "attachments": {},
   "cell_type": "markdown",
   "id": "335b0e0d",
   "metadata": {},
   "source": [
    "# Assignment 7\n",
    "1. re.compile()\n",
    "2. so that backslashes do not have to be escaped.\n",
    "3. string object\n",
    "4. using group() method\n",
    "5. integers\n",
    "6. using \\ operator\n",
    "7. findall() method returns a list of strings\n",
    "8. it simply means 'or'\n",
    "9. either a metacharacter, having a special meaning, or a regular character that has a literal meaning\n",
    "10. * means zero-or-more, and + means one-or-more\n",
    "11. {4} means exctly 4, {4,5} means 4 to 5 \n",
    "12. \\d for digits \\w for words \\s for spaces\n",
    "13. \\D for except digit,\\W for except word(alphanumeric) and \\S for ecxept spaces \n",
    "14. * means zero-or-more,? means zero-or-one\n",
    "15. [a-z0-9] for numbers and lower case letters\n",
    "16. Using CASE_INSENSITIVE\n",
    "17. (Dot.) In the default mode, this matches any character except a newline\n",
    "18. X drummers, X pipers, five rings, X hens\n",
    "19. To ignore whitespace and comments inside the regular expression string.\n",
    "20. m=re.compile(r'(^\\d{1,3})(,\\d{3})*') \n"
   ]
  }
 ],
 "metadata": {
  "kernelspec": {
   "display_name": "Python 3 (ipykernel)",
   "language": "python",
   "name": "python3"
  },
  "language_info": {
   "codemirror_mode": {
    "name": "ipython",
    "version": 3
   },
   "file_extension": ".py",
   "mimetype": "text/x-python",
   "name": "python",
   "nbconvert_exporter": "python",
   "pygments_lexer": "ipython3",
   "version": "3.9.12"
  }
 },
 "nbformat": 4,
 "nbformat_minor": 5
}
